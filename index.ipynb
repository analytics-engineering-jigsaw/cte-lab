{
 "cells": [
  {
   "cell_type": "markdown",
   "id": "raising-reading",
   "metadata": {},
   "source": [
    "# CTEs Products Lab "
   ]
  },
  {
   "cell_type": "markdown",
   "id": "closed-scene",
   "metadata": {},
   "source": [
    "### Introduction"
   ]
  },
  {
   "cell_type": "markdown",
   "id": "correct-calcium",
   "metadata": {},
   "source": [
    "In this lesson, we'll practice working with CTEs.  As we know CTEs allow to break our queries into multiple steps by creating a temporary table.  And we perform our CTEs with the following syntax:"
   ]
  },
  {
   "cell_type": "markdown",
   "id": "early-portuguese",
   "metadata": {},
   "source": [
    "```SQL\n",
    "WITH table_name AS (\n",
    "   SELECT ...\n",
    ")\n",
    "\n",
    "SELECT ... FROM table_name;\n",
    "```"
   ]
  },
  {
   "cell_type": "markdown",
   "id": "democratic-arbor",
   "metadata": {},
   "source": [
    "Ok, let's get started."
   ]
  },
  {
   "cell_type": "markdown",
   "id": "apart-music",
   "metadata": {},
   "source": [
    "### Getting set up"
   ]
  },
  {
   "cell_type": "markdown",
   "id": "classical-encyclopedia",
   "metadata": {},
   "source": [
    "In this lesson we'll work with the northwind database, which is a sample ecommerce database."
   ]
  },
  {
   "cell_type": "markdown",
   "id": "synthetic-sunset",
   "metadata": {},
   "source": [
    "Let's start by connecting to the database."
   ]
  },
  {
   "cell_type": "code",
   "execution_count": 2,
   "id": "multiple-payday",
   "metadata": {},
   "outputs": [],
   "source": [
    "import sqlite3\n",
    "conn = sqlite3.connect('Northwind_small.sqlite')\n",
    "cursor = conn.cursor()"
   ]
  },
  {
   "cell_type": "markdown",
   "id": "owned-latvia",
   "metadata": {},
   "source": [
    "And then can see the various tables with the following."
   ]
  },
  {
   "cell_type": "code",
   "execution_count": 3,
   "id": "political-insight",
   "metadata": {},
   "outputs": [
    {
     "data": {
      "text/plain": [
       "[('Employee',),\n",
       " ('Category',),\n",
       " ('Customer',),\n",
       " ('Shipper',),\n",
       " ('Supplier',),\n",
       " ('Order',),\n",
       " ('Product',),\n",
       " ('OrderDetail',),\n",
       " ('CustomerCustomerDemo',),\n",
       " ('CustomerDemographic',),\n",
       " ('Region',),\n",
       " ('Territory',),\n",
       " ('EmployeeTerritory',)]"
      ]
     },
     "execution_count": 3,
     "metadata": {},
     "output_type": "execute_result"
    }
   ],
   "source": [
    "cursor.execute(\"SELECT name FROM sqlite_master WHERE type='table';\")\n",
    "cursor.fetchall()"
   ]
  },
  {
   "cell_type": "markdown",
   "id": "interpreted-little",
   "metadata": {},
   "source": [
    "Now we'll only use a subset of the above tables -- focusing on the `Product`, `Supplier` and `Category` table.  Ok, so let's take a look at those tables."
   ]
  },
  {
   "cell_type": "markdown",
   "id": "humanitarian-explorer",
   "metadata": {},
   "source": [
    "> Select the first two rows from the `Product` table, the `Supplier` table, and the `Category` table to get a sense of the data."
   ]
  },
  {
   "cell_type": "code",
   "execution_count": null,
   "id": "assigned-wichita",
   "metadata": {},
   "outputs": [],
   "source": []
  },
  {
   "cell_type": "code",
   "execution_count": 5,
   "id": "looking-brazil",
   "metadata": {},
   "outputs": [
    {
     "data": {
      "text/html": [
       "<div>\n",
       "<style scoped>\n",
       "    .dataframe tbody tr th:only-of-type {\n",
       "        vertical-align: middle;\n",
       "    }\n",
       "\n",
       "    .dataframe tbody tr th {\n",
       "        vertical-align: top;\n",
       "    }\n",
       "\n",
       "    .dataframe thead th {\n",
       "        text-align: right;\n",
       "    }\n",
       "</style>\n",
       "<table border=\"1\" class=\"dataframe\">\n",
       "  <thead>\n",
       "    <tr style=\"text-align: right;\">\n",
       "      <th></th>\n",
       "      <th>Id</th>\n",
       "      <th>ProductName</th>\n",
       "      <th>SupplierId</th>\n",
       "      <th>CategoryId</th>\n",
       "      <th>QuantityPerUnit</th>\n",
       "      <th>UnitPrice</th>\n",
       "      <th>UnitsInStock</th>\n",
       "      <th>UnitsOnOrder</th>\n",
       "      <th>ReorderLevel</th>\n",
       "      <th>Discontinued</th>\n",
       "    </tr>\n",
       "  </thead>\n",
       "  <tbody>\n",
       "    <tr>\n",
       "      <th>0</th>\n",
       "      <td>1</td>\n",
       "      <td>Chai</td>\n",
       "      <td>1</td>\n",
       "      <td>1</td>\n",
       "      <td>10 boxes x 20 bags</td>\n",
       "      <td>18</td>\n",
       "      <td>39</td>\n",
       "      <td>0</td>\n",
       "      <td>10</td>\n",
       "      <td>0</td>\n",
       "    </tr>\n",
       "    <tr>\n",
       "      <th>1</th>\n",
       "      <td>2</td>\n",
       "      <td>Chang</td>\n",
       "      <td>1</td>\n",
       "      <td>1</td>\n",
       "      <td>24 - 12 oz bottles</td>\n",
       "      <td>19</td>\n",
       "      <td>17</td>\n",
       "      <td>40</td>\n",
       "      <td>25</td>\n",
       "      <td>0</td>\n",
       "    </tr>\n",
       "  </tbody>\n",
       "</table>\n",
       "</div>"
      ],
      "text/plain": [
       "   Id ProductName  SupplierId  CategoryId     QuantityPerUnit  UnitPrice  \\\n",
       "0   1        Chai           1           1  10 boxes x 20 bags         18   \n",
       "1   2       Chang           1           1  24 - 12 oz bottles         19   \n",
       "\n",
       "   UnitsInStock  UnitsOnOrder  ReorderLevel  Discontinued  \n",
       "0            39             0            10             0  \n",
       "1            17            40            25             0  "
      ]
     },
     "execution_count": 5,
     "metadata": {},
     "output_type": "execute_result"
    }
   ],
   "source": [
    "import pandas as pd\n",
    "query = \"SELECT * FROM product LIMIT 2;\" # view first two records from the Product table\n",
    "pd.read_sql(query, conn)"
   ]
  },
  {
   "cell_type": "code",
   "execution_count": 8,
   "id": "ruled-birmingham",
   "metadata": {},
   "outputs": [
    {
     "data": {
      "text/html": [
       "<div>\n",
       "<style scoped>\n",
       "    .dataframe tbody tr th:only-of-type {\n",
       "        vertical-align: middle;\n",
       "    }\n",
       "\n",
       "    .dataframe tbody tr th {\n",
       "        vertical-align: top;\n",
       "    }\n",
       "\n",
       "    .dataframe thead th {\n",
       "        text-align: right;\n",
       "    }\n",
       "</style>\n",
       "<table border=\"1\" class=\"dataframe\">\n",
       "  <thead>\n",
       "    <tr style=\"text-align: right;\">\n",
       "      <th></th>\n",
       "      <th>Id</th>\n",
       "      <th>CompanyName</th>\n",
       "      <th>ContactName</th>\n",
       "      <th>ContactTitle</th>\n",
       "      <th>Address</th>\n",
       "      <th>City</th>\n",
       "      <th>Region</th>\n",
       "      <th>PostalCode</th>\n",
       "      <th>Country</th>\n",
       "      <th>Phone</th>\n",
       "      <th>Fax</th>\n",
       "      <th>HomePage</th>\n",
       "    </tr>\n",
       "  </thead>\n",
       "  <tbody>\n",
       "    <tr>\n",
       "      <th>0</th>\n",
       "      <td>1</td>\n",
       "      <td>Exotic Liquids</td>\n",
       "      <td>Charlotte Cooper</td>\n",
       "      <td>Purchasing Manager</td>\n",
       "      <td>49 Gilbert St.</td>\n",
       "      <td>London</td>\n",
       "      <td>British Isles</td>\n",
       "      <td>EC1 4SD</td>\n",
       "      <td>UK</td>\n",
       "      <td>(171) 555-2222</td>\n",
       "      <td>None</td>\n",
       "      <td>None</td>\n",
       "    </tr>\n",
       "    <tr>\n",
       "      <th>1</th>\n",
       "      <td>2</td>\n",
       "      <td>New Orleans Cajun Delights</td>\n",
       "      <td>Shelley Burke</td>\n",
       "      <td>Order Administrator</td>\n",
       "      <td>P.O. Box 78934</td>\n",
       "      <td>New Orleans</td>\n",
       "      <td>North America</td>\n",
       "      <td>70117</td>\n",
       "      <td>USA</td>\n",
       "      <td>(100) 555-4822</td>\n",
       "      <td>None</td>\n",
       "      <td>#CAJUN.HTM#</td>\n",
       "    </tr>\n",
       "  </tbody>\n",
       "</table>\n",
       "</div>"
      ],
      "text/plain": [
       "   Id                 CompanyName       ContactName         ContactTitle  \\\n",
       "0   1              Exotic Liquids  Charlotte Cooper   Purchasing Manager   \n",
       "1   2  New Orleans Cajun Delights     Shelley Burke  Order Administrator   \n",
       "\n",
       "          Address         City         Region PostalCode Country  \\\n",
       "0  49 Gilbert St.       London  British Isles    EC1 4SD      UK   \n",
       "1  P.O. Box 78934  New Orleans  North America      70117     USA   \n",
       "\n",
       "            Phone   Fax     HomePage  \n",
       "0  (171) 555-2222  None         None  \n",
       "1  (100) 555-4822  None  #CAJUN.HTM#  "
      ]
     },
     "execution_count": 8,
     "metadata": {},
     "output_type": "execute_result"
    }
   ],
   "source": [
    "\n",
    "query = \"\" # view first two records from the Supplier table\n",
    "pd.read_sql(, conn)"
   ]
  },
  {
   "cell_type": "code",
   "execution_count": 26,
   "id": "introductory-jacob",
   "metadata": {},
   "outputs": [
    {
     "data": {
      "text/html": [
       "<div>\n",
       "<style scoped>\n",
       "    .dataframe tbody tr th:only-of-type {\n",
       "        vertical-align: middle;\n",
       "    }\n",
       "\n",
       "    .dataframe tbody tr th {\n",
       "        vertical-align: top;\n",
       "    }\n",
       "\n",
       "    .dataframe thead th {\n",
       "        text-align: right;\n",
       "    }\n",
       "</style>\n",
       "<table border=\"1\" class=\"dataframe\">\n",
       "  <thead>\n",
       "    <tr style=\"text-align: right;\">\n",
       "      <th></th>\n",
       "      <th>Id</th>\n",
       "      <th>CategoryName</th>\n",
       "      <th>Description</th>\n",
       "    </tr>\n",
       "  </thead>\n",
       "  <tbody>\n",
       "    <tr>\n",
       "      <th>0</th>\n",
       "      <td>1</td>\n",
       "      <td>Beverages</td>\n",
       "      <td>Soft drinks, coffees, teas, beers, and ales</td>\n",
       "    </tr>\n",
       "    <tr>\n",
       "      <th>1</th>\n",
       "      <td>2</td>\n",
       "      <td>Condiments</td>\n",
       "      <td>Sweet and savory sauces, relishes, spreads, an...</td>\n",
       "    </tr>\n",
       "  </tbody>\n",
       "</table>\n",
       "</div>"
      ],
      "text/plain": [
       "   Id CategoryName                                        Description\n",
       "0   1    Beverages        Soft drinks, coffees, teas, beers, and ales\n",
       "1   2   Condiments  Sweet and savory sauces, relishes, spreads, an..."
      ]
     },
     "execution_count": 26,
     "metadata": {},
     "output_type": "execute_result"
    }
   ],
   "source": [
    "query = \"\" # view first two records from the Category table\n",
    "pd.read_sql(query, conn)"
   ]
  },
  {
   "cell_type": "markdown",
   "id": "possible-princess",
   "metadata": {},
   "source": [
    "> Take a look at the columns and kind of data that we get from each table."
   ]
  },
  {
   "cell_type": "markdown",
   "id": "infinite-footage",
   "metadata": {},
   "source": [
    "### Our First CTEs"
   ]
  },
  {
   "cell_type": "markdown",
   "id": "personal-export",
   "metadata": {},
   "source": [
    "Ok, now it's time to write our first CTE.  Let's use a CTE to find:\n",
    "* the highest average unit price by category and supplier.\n",
    "\n",
    "In doing so: \n",
    "* first create a temporary table called `avg_category_supplier` that computes the average unit prices per category and supplier, and \n",
    "* then find the category and supplier combination with the highest average price."
   ]
  },
  {
   "cell_type": "code",
   "execution_count": 10,
   "id": "ordinary-office",
   "metadata": {},
   "outputs": [],
   "source": [
    "sql = \"\"\"\n",
    "WITH avg_category_supplier AS (\n",
    "    SELECT CategoryId, SupplierId, AVG(UnitPrice) as avg_price FROM product GROUP BY SupplierId, CategoryId\n",
    ")\n",
    "\n",
    "SELECT * FROM avg_category_supplier \n",
    "ORDER BY avg_price desc limit 2;\n",
    "\"\"\""
   ]
  },
  {
   "cell_type": "code",
   "execution_count": 11,
   "id": "classified-blind",
   "metadata": {},
   "outputs": [
    {
     "data": {
      "text/html": [
       "<div>\n",
       "<style scoped>\n",
       "    .dataframe tbody tr th:only-of-type {\n",
       "        vertical-align: middle;\n",
       "    }\n",
       "\n",
       "    .dataframe tbody tr th {\n",
       "        vertical-align: top;\n",
       "    }\n",
       "\n",
       "    .dataframe thead th {\n",
       "        text-align: right;\n",
       "    }\n",
       "</style>\n",
       "<table border=\"1\" class=\"dataframe\">\n",
       "  <thead>\n",
       "    <tr style=\"text-align: right;\">\n",
       "      <th></th>\n",
       "      <th>CategoryId</th>\n",
       "      <th>SupplierId</th>\n",
       "      <th>avg_price</th>\n",
       "    </tr>\n",
       "  </thead>\n",
       "  <tbody>\n",
       "    <tr>\n",
       "      <th>0</th>\n",
       "      <td>1</td>\n",
       "      <td>18</td>\n",
       "      <td>140.75</td>\n",
       "    </tr>\n",
       "    <tr>\n",
       "      <th>1</th>\n",
       "      <td>6</td>\n",
       "      <td>12</td>\n",
       "      <td>123.79</td>\n",
       "    </tr>\n",
       "  </tbody>\n",
       "</table>\n",
       "</div>"
      ],
      "text/plain": [
       "   CategoryId  SupplierId  avg_price\n",
       "0           1          18     140.75\n",
       "1           6          12     123.79"
      ]
     },
     "execution_count": 11,
     "metadata": {},
     "output_type": "execute_result"
    }
   ],
   "source": [
    "pd.read_sql(sql, conn)\n",
    "\n",
    "# CategoryId\tSupplierId\thighest_avg_price\n",
    "# 0\t1\t18\t140.75"
   ]
  },
  {
   "cell_type": "markdown",
   "id": "collectible-census",
   "metadata": {},
   "source": [
    "Now let's use a CTE to find just the category with the lowest average price."
   ]
  },
  {
   "cell_type": "code",
   "execution_count": 16,
   "id": "centered-heavy",
   "metadata": {},
   "outputs": [],
   "source": [
    "sql = \"\"\"\n",
    "WITH avg_category AS (\n",
    "    SELECT CategoryId, AVG(UnitPrice) as avg_price FROM product GROUP BY CategoryId\n",
    ")\n",
    "\n",
    "SELECT * FROM avg_category \n",
    "ORDER BY avg_price asc limit 1;\n",
    "\"\"\""
   ]
  },
  {
   "cell_type": "code",
   "execution_count": 17,
   "id": "clear-silence",
   "metadata": {},
   "outputs": [
    {
     "data": {
      "text/html": [
       "<div>\n",
       "<style scoped>\n",
       "    .dataframe tbody tr th:only-of-type {\n",
       "        vertical-align: middle;\n",
       "    }\n",
       "\n",
       "    .dataframe tbody tr th {\n",
       "        vertical-align: top;\n",
       "    }\n",
       "\n",
       "    .dataframe thead th {\n",
       "        text-align: right;\n",
       "    }\n",
       "</style>\n",
       "<table border=\"1\" class=\"dataframe\">\n",
       "  <thead>\n",
       "    <tr style=\"text-align: right;\">\n",
       "      <th></th>\n",
       "      <th>CategoryId</th>\n",
       "      <th>avg_price</th>\n",
       "    </tr>\n",
       "  </thead>\n",
       "  <tbody>\n",
       "    <tr>\n",
       "      <th>0</th>\n",
       "      <td>5</td>\n",
       "      <td>20.25</td>\n",
       "    </tr>\n",
       "  </tbody>\n",
       "</table>\n",
       "</div>"
      ],
      "text/plain": [
       "   CategoryId  avg_price\n",
       "0           5      20.25"
      ]
     },
     "execution_count": 17,
     "metadata": {},
     "output_type": "execute_result"
    }
   ],
   "source": [
    "pd.read_sql(sql, conn)\n",
    "\n",
    "# \tCategoryId\tlowest_avg_price\n",
    "# 0\t5\t20.25"
   ]
  },
  {
   "cell_type": "markdown",
   "id": "statewide-spouse",
   "metadata": {},
   "source": [
    "Ok, so in this section, we used CTEs to perform multiple aggregations.  We did so by using CTEs to perform an initial aggregation in a temporary table, and then queried from that temporary table.  "
   ]
  },
  {
   "cell_type": "markdown",
   "id": "loaded-network",
   "metadata": {},
   "source": [
    "### CTEs for Preprocessing"
   ]
  },
  {
   "cell_type": "markdown",
   "id": "german-immunology",
   "metadata": {},
   "source": [
    "Another use case for CTEs in queries is when joining together multiple tables.  Remember that in general, when coding, we often perform some initial pre-processing, and then act on that preprocessed data.  \n",
    "\n",
    "> For example, we may just select the data we need before adding it into the database.\n",
    "\n",
    "With CTEs, we can use temporary tables to first select just the columns that we need from a couple individual tables, and then perform the final query from there.  So we first do some initial pre-processing, and then we query."
   ]
  },
  {
   "cell_type": "markdown",
   "id": "abandoned-billion",
   "metadata": {},
   "source": [
    "For example, if we want to use SQL to find the different kinds of products made in the `British Isles`, we only need a few columns from the `product`, `category`, `supplier` tables.  So we'll use CTEs to first select columns from each of those individual tables, and then from there combine these temporary tables together with a JOIN. \n",
    "\n",
    ">Task: Use ctes to find the categories of products made in the `British Isles`."
   ]
  },
  {
   "cell_type": "code",
   "execution_count": 28,
   "id": "accompanied-peninsula",
   "metadata": {},
   "outputs": [],
   "source": [
    "sql = \"\"\"\n",
    "WITH select_supplier as (\n",
    "    SELECT Id, CompanyName, Region FROM supplier\n",
    "), \n",
    "\n",
    "select_category as (\n",
    "    SELECT Id, CategoryName as name FROM Category\n",
    "),\n",
    "\n",
    "select_product as (\n",
    "        SELECT SupplierId, CategoryId, UnitPrice FROM Product\n",
    ")\n",
    "\n",
    "SELECT name, UnitPrice, CompanyName FROM select_product \n",
    "JOIN select_supplier \n",
    "    ON select_product.SupplierId = select_supplier.Id\n",
    "JOIN select_category ON select_product.CategoryId = select_category.Id\n",
    "WHERE Region = 'British Isles';\"\"\""
   ]
  },
  {
   "cell_type": "code",
   "execution_count": 29,
   "id": "increasing-rover",
   "metadata": {},
   "outputs": [
    {
     "data": {
      "text/html": [
       "<div>\n",
       "<style scoped>\n",
       "    .dataframe tbody tr th:only-of-type {\n",
       "        vertical-align: middle;\n",
       "    }\n",
       "\n",
       "    .dataframe tbody tr th {\n",
       "        vertical-align: top;\n",
       "    }\n",
       "\n",
       "    .dataframe thead th {\n",
       "        text-align: right;\n",
       "    }\n",
       "</style>\n",
       "<table border=\"1\" class=\"dataframe\">\n",
       "  <thead>\n",
       "    <tr style=\"text-align: right;\">\n",
       "      <th></th>\n",
       "      <th>name</th>\n",
       "      <th>UnitPrice</th>\n",
       "      <th>CompanyName</th>\n",
       "    </tr>\n",
       "  </thead>\n",
       "  <tbody>\n",
       "    <tr>\n",
       "      <th>0</th>\n",
       "      <td>Beverages</td>\n",
       "      <td>18.0</td>\n",
       "      <td>Exotic Liquids</td>\n",
       "    </tr>\n",
       "    <tr>\n",
       "      <th>1</th>\n",
       "      <td>Beverages</td>\n",
       "      <td>19.0</td>\n",
       "      <td>Exotic Liquids</td>\n",
       "    </tr>\n",
       "    <tr>\n",
       "      <th>2</th>\n",
       "      <td>Condiments</td>\n",
       "      <td>10.0</td>\n",
       "      <td>Exotic Liquids</td>\n",
       "    </tr>\n",
       "    <tr>\n",
       "      <th>3</th>\n",
       "      <td>Confections</td>\n",
       "      <td>9.2</td>\n",
       "      <td>Specialty Biscuits, Ltd.</td>\n",
       "    </tr>\n",
       "    <tr>\n",
       "      <th>4</th>\n",
       "      <td>Confections</td>\n",
       "      <td>81.0</td>\n",
       "      <td>Specialty Biscuits, Ltd.</td>\n",
       "    </tr>\n",
       "    <tr>\n",
       "      <th>5</th>\n",
       "      <td>Confections</td>\n",
       "      <td>10.0</td>\n",
       "      <td>Specialty Biscuits, Ltd.</td>\n",
       "    </tr>\n",
       "    <tr>\n",
       "      <th>6</th>\n",
       "      <td>Confections</td>\n",
       "      <td>12.5</td>\n",
       "      <td>Specialty Biscuits, Ltd.</td>\n",
       "    </tr>\n",
       "  </tbody>\n",
       "</table>\n",
       "</div>"
      ],
      "text/plain": [
       "          name  UnitPrice               CompanyName\n",
       "0    Beverages       18.0            Exotic Liquids\n",
       "1    Beverages       19.0            Exotic Liquids\n",
       "2   Condiments       10.0            Exotic Liquids\n",
       "3  Confections        9.2  Specialty Biscuits, Ltd.\n",
       "4  Confections       81.0  Specialty Biscuits, Ltd.\n",
       "5  Confections       10.0  Specialty Biscuits, Ltd.\n",
       "6  Confections       12.5  Specialty Biscuits, Ltd."
      ]
     },
     "execution_count": 29,
     "metadata": {},
     "output_type": "execute_result"
    }
   ],
   "source": [
    "pd.read_sql(sql, conn)"
   ]
  },
  {
   "cell_type": "markdown",
   "id": "stretch-yellow",
   "metadata": {},
   "source": [
    "So we can see that the products made in the British Isles are Beverages, Condiments and Confections."
   ]
  },
  {
   "cell_type": "markdown",
   "id": "juvenile-sullivan",
   "metadata": {},
   "source": [
    "Now, take another look at the CTE, paying attention to the syntax.  Notice that there is only a single `WITH` statement, and we separate each temporary table by a comma."
   ]
  },
  {
   "cell_type": "markdown",
   "id": "incorporate-mirror",
   "metadata": {},
   "source": [
    "```SQL\n",
    "WITH select_supplier as (\n",
    "    SELECT Id, CompanyName, Region FROM supplier\n",
    "), \n",
    "\n",
    "select_category as ( ...\n",
    "```"
   ]
  },
  {
   "cell_type": "markdown",
   "id": "ranking-crime",
   "metadata": {},
   "source": [
    "Ok, so now it's your turn to practice with using CTEs in this pattern.  Use CTEs to find the the average product price per city, and then order the cities from the highest average price to lowest.\n",
    "\n",
    "So the first step is to use CTEs to select just the necessary columns from each of the needed tables.  And then from there we can join the tables together and perform the aggregation."
   ]
  },
  {
   "cell_type": "code",
   "execution_count": 50,
   "id": "subject-nepal",
   "metadata": {},
   "outputs": [],
   "source": [
    "sql = \"\"\"\n",
    "WITH select_supplier as (\n",
    "    SELECT Id, City FROM supplier \n",
    "),\n",
    "select_product as (\n",
    "    SELECT Id, SupplierId, UnitPrice FROM product \n",
    "), \n",
    "combined as (\n",
    "    SELECT * FROM select_supplier \n",
    "    JOIN select_product ON \n",
    "    select_supplier.id = select_product.SupplierId\n",
    "    JOIN select_category ON\n",
    "    select_product.CategoryId = select_category.Id\n",
    ")\n",
    "\n",
    "SELECT City, AVG(UnitPrice) as avg_price\n",
    "FROM combined GROUP BY city\n",
    "ORDER BY avg_price desc\n",
    "LIMIT 5\n",
    ";\n",
    "\"\"\""
   ]
  },
  {
   "cell_type": "code",
   "execution_count": 49,
   "id": "unable-facial",
   "metadata": {},
   "outputs": [
    {
     "data": {
      "text/html": [
       "<div>\n",
       "<style scoped>\n",
       "    .dataframe tbody tr th:only-of-type {\n",
       "        vertical-align: middle;\n",
       "    }\n",
       "\n",
       "    .dataframe tbody tr th {\n",
       "        vertical-align: top;\n",
       "    }\n",
       "\n",
       "    .dataframe thead th {\n",
       "        text-align: right;\n",
       "    }\n",
       "</style>\n",
       "<table border=\"1\" class=\"dataframe\">\n",
       "  <thead>\n",
       "    <tr style=\"text-align: right;\">\n",
       "      <th></th>\n",
       "      <th>City</th>\n",
       "      <th>avg_price</th>\n",
       "    </tr>\n",
       "  </thead>\n",
       "  <tbody>\n",
       "    <tr>\n",
       "      <th>0</th>\n",
       "      <td>Paris</td>\n",
       "      <td>140.750</td>\n",
       "    </tr>\n",
       "    <tr>\n",
       "      <th>1</th>\n",
       "      <td>Tokyo</td>\n",
       "      <td>46.000</td>\n",
       "    </tr>\n",
       "    <tr>\n",
       "      <th>2</th>\n",
       "      <td>Frankfurt</td>\n",
       "      <td>44.678</td>\n",
       "    </tr>\n",
       "    <tr>\n",
       "      <th>3</th>\n",
       "      <td>Annecy</td>\n",
       "      <td>44.500</td>\n",
       "    </tr>\n",
       "    <tr>\n",
       "      <th>4</th>\n",
       "      <td>Ste-Hyacinthe</td>\n",
       "      <td>38.900</td>\n",
       "    </tr>\n",
       "  </tbody>\n",
       "</table>\n",
       "</div>"
      ],
      "text/plain": [
       "            City  avg_price\n",
       "0          Paris    140.750\n",
       "1          Tokyo     46.000\n",
       "2      Frankfurt     44.678\n",
       "3         Annecy     44.500\n",
       "4  Ste-Hyacinthe     38.900"
      ]
     },
     "execution_count": 49,
     "metadata": {},
     "output_type": "execute_result"
    }
   ],
   "source": [
    "pd.read_sql(sql, conn)\n",
    "\n",
    "# \tCity\tavg_price\n",
    "# 0\tParis\t140.750\n",
    "# 1\tTokyo\t46.000\n",
    "# 2\tFrankfurt\t44.678\n",
    "# 3\tAnnecy\t44.500\n",
    "# 4\tSte-Hyacinthe\t38.900"
   ]
  },
  {
   "cell_type": "markdown",
   "id": "9a7a05d1-0b69-4f92-b756-7c638b5ffc65",
   "metadata": {},
   "source": [
    "Next, for each category of products, find the city that has the highest average price."
   ]
  },
  {
   "cell_type": "code",
   "execution_count": 91,
   "id": "61452c64-6683-4456-83bb-e6767f91a402",
   "metadata": {},
   "outputs": [],
   "source": [
    "sql = \"\"\"\n",
    "WITH select_supplier as (\n",
    "    SELECT Id, City FROM supplier \n",
    "),\n",
    "select_product as (\n",
    "    SELECT Id, SupplierId, CategoryId, UnitPrice FROM product \n",
    "), \n",
    "select_category as (\n",
    "    SELECT Id, CategoryName FROM Category\n",
    "),\n",
    "combined as (\n",
    "    SELECT * FROM select_supplier \n",
    "    JOIN select_product ON \n",
    "    select_supplier.id = select_product.SupplierId\n",
    "    JOIN select_category ON\n",
    "    select_product.CategoryId = select_category.Id\n",
    "), category_cities AS\n",
    "(\n",
    " SELECT City, CategoryName, AVG(UnitPrice) as avg_price, \n",
    " rank() over (partition by CategoryId ORDER BY AVG(UnitPrice) desc) as rank\n",
    " FROM combined GROUP BY City, CategoryId\n",
    ")\n",
    "SELECT * FROM category_cities WHERE rank = 1\n",
    "\"\"\""
   ]
  },
  {
   "cell_type": "code",
   "execution_count": 92,
   "id": "89cb48cc-412f-4fbd-99e6-2dfedac4fb4a",
   "metadata": {},
   "outputs": [
    {
     "data": {
      "text/html": [
       "<div>\n",
       "<style scoped>\n",
       "    .dataframe tbody tr th:only-of-type {\n",
       "        vertical-align: middle;\n",
       "    }\n",
       "\n",
       "    .dataframe tbody tr th {\n",
       "        vertical-align: top;\n",
       "    }\n",
       "\n",
       "    .dataframe thead th {\n",
       "        text-align: right;\n",
       "    }\n",
       "</style>\n",
       "<table border=\"1\" class=\"dataframe\">\n",
       "  <thead>\n",
       "    <tr style=\"text-align: right;\">\n",
       "      <th></th>\n",
       "      <th>City</th>\n",
       "      <th>CategoryName</th>\n",
       "      <th>avg_price</th>\n",
       "      <th>rank</th>\n",
       "    </tr>\n",
       "  </thead>\n",
       "  <tbody>\n",
       "    <tr>\n",
       "      <th>0</th>\n",
       "      <td>Paris</td>\n",
       "      <td>Beverages</td>\n",
       "      <td>140.75</td>\n",
       "      <td>1</td>\n",
       "    </tr>\n",
       "    <tr>\n",
       "      <th>1</th>\n",
       "      <td>Melbourne</td>\n",
       "      <td>Condiments</td>\n",
       "      <td>43.90</td>\n",
       "      <td>1</td>\n",
       "    </tr>\n",
       "    <tr>\n",
       "      <th>2</th>\n",
       "      <td>Ste-Hyacinthe</td>\n",
       "      <td>Confections</td>\n",
       "      <td>49.30</td>\n",
       "      <td>1</td>\n",
       "    </tr>\n",
       "    <tr>\n",
       "      <th>3</th>\n",
       "      <td>Annecy</td>\n",
       "      <td>Dairy Products</td>\n",
       "      <td>44.50</td>\n",
       "      <td>1</td>\n",
       "    </tr>\n",
       "    <tr>\n",
       "      <th>4</th>\n",
       "      <td>Frankfurt</td>\n",
       "      <td>Grains/Cereals</td>\n",
       "      <td>33.25</td>\n",
       "      <td>1</td>\n",
       "    </tr>\n",
       "    <tr>\n",
       "      <th>5</th>\n",
       "      <td>Frankfurt</td>\n",
       "      <td>Meat/Poultry</td>\n",
       "      <td>123.79</td>\n",
       "      <td>1</td>\n",
       "    </tr>\n",
       "    <tr>\n",
       "      <th>6</th>\n",
       "      <td>Sydney</td>\n",
       "      <td>Produce</td>\n",
       "      <td>53.00</td>\n",
       "      <td>1</td>\n",
       "    </tr>\n",
       "    <tr>\n",
       "      <th>7</th>\n",
       "      <td>Melbourne</td>\n",
       "      <td>Seafood</td>\n",
       "      <td>62.50</td>\n",
       "      <td>1</td>\n",
       "    </tr>\n",
       "  </tbody>\n",
       "</table>\n",
       "</div>"
      ],
      "text/plain": [
       "            City    CategoryName  avg_price  rank\n",
       "0          Paris       Beverages     140.75     1\n",
       "1      Melbourne      Condiments      43.90     1\n",
       "2  Ste-Hyacinthe     Confections      49.30     1\n",
       "3         Annecy  Dairy Products      44.50     1\n",
       "4      Frankfurt  Grains/Cereals      33.25     1\n",
       "5      Frankfurt    Meat/Poultry     123.79     1\n",
       "6         Sydney         Produce      53.00     1\n",
       "7      Melbourne         Seafood      62.50     1"
      ]
     },
     "execution_count": 92,
     "metadata": {},
     "output_type": "execute_result"
    }
   ],
   "source": [
    "pd.read_sql(sql, conn)\n",
    "\n",
    "# \tCity\tCategoryName\tavg_price\trank\n",
    "# 0\tParis\tBeverages\t140.75\t1\n",
    "# 1\tMelbourne\tCondiments\t43.90\t1\n",
    "# 2\tSte-Hyacinthe\tConfections\t49.30\t1\n",
    "# 3\tAnnecy\tDairy Products\t44.50\t1\n",
    "# 4\tFrankfurt\tGrains/Cereals\t33.25\t1\n",
    "# 5\tFrankfurt\tMeat/Poultry\t123.79\t1\n",
    "# 6\tSydney\tProduce\t53.00\t1\n",
    "# 7\tMelbourne\tSeafood\t62.50\t1"
   ]
  },
  {
   "cell_type": "markdown",
   "id": "applicable-melbourne",
   "metadata": {},
   "source": [
    "### Summary"
   ]
  },
  {
   "cell_type": "markdown",
   "id": "efficient-cursor",
   "metadata": {},
   "source": [
    "In this lesson we practiced using CTEs.  We use CTEs to create one or more temporary tables, and we then query from those tables.  We saw two use cases for CTEs.  With the first one, we use CTEs when chaining aggregate queries.\n",
    "\n",
    "And with the second one, we used the temporary tables for a sort of pre-processing on each table, before then joining these tables together.  We separated each of the temporary tables with a comma."
   ]
  },
  {
   "cell_type": "markdown",
   "id": "clear-globe",
   "metadata": {},
   "source": [
    "```sql\n",
    "WITH select_supplier as (\n",
    "    SELECT Id, CompanyName, Region FROM supplier\n",
    "), \n",
    "\n",
    "select_category as ( ...\n",
    "```"
   ]
  }
 ],
 "metadata": {
  "kernelspec": {
   "display_name": "Python 3 (ipykernel)",
   "language": "python",
   "name": "python3"
  },
  "language_info": {
   "codemirror_mode": {
    "name": "ipython",
    "version": 3
   },
   "file_extension": ".py",
   "mimetype": "text/x-python",
   "name": "python",
   "nbconvert_exporter": "python",
   "pygments_lexer": "ipython3",
   "version": "3.9.7"
  }
 },
 "nbformat": 4,
 "nbformat_minor": 5
}
