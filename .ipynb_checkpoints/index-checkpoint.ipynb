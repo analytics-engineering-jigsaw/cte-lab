{
 "cells": [
  {
   "cell_type": "markdown",
   "id": "muslim-spray",
   "metadata": {},
   "source": [
    "# CTEs Products Lab "
   ]
  },
  {
   "cell_type": "markdown",
   "id": "alive-words",
   "metadata": {},
   "source": [
    "### Introduction"
   ]
  },
  {
   "cell_type": "markdown",
   "id": "swedish-faith",
   "metadata": {},
   "source": [
    "In this lesson, we'll practice working with CTEs.  As we know CTEs allow to break our queries into multiple steps by creating a temporary table.  And we perform our CTEs with the following syntax:"
   ]
  },
  {
   "cell_type": "markdown",
   "id": "artificial-emission",
   "metadata": {},
   "source": [
    "```SQL\n",
    "WITH table_name AS (\n",
    "   SELECT ...\n",
    ")\n",
    "\n",
    "SELECT ... FROM table_name;\n",
    "```"
   ]
  },
  {
   "cell_type": "markdown",
   "id": "fleet-steam",
   "metadata": {},
   "source": [
    "Ok, let's get started."
   ]
  },
  {
   "cell_type": "markdown",
   "id": "responsible-portable",
   "metadata": {},
   "source": [
    "### Getting set up"
   ]
  },
  {
   "cell_type": "markdown",
   "id": "interim-iraqi",
   "metadata": {},
   "source": [
    "In this lesson we'll work with the northwind database, which is a sample ecommerce database."
   ]
  },
  {
   "cell_type": "markdown",
   "id": "suffering-hunger",
   "metadata": {},
   "source": [
    "We'll start by connecting to the database."
   ]
  },
  {
   "cell_type": "code",
   "execution_count": 1,
   "id": "exposed-princess",
   "metadata": {},
   "outputs": [],
   "source": [
    "import sqlite3\n",
    "conn = sqlite3.connect('Northwind_small.sqlite')\n",
    "cursor = conn.cursor()"
   ]
  },
  {
   "cell_type": "markdown",
   "id": "complete-angola",
   "metadata": {},
   "source": [
    "And then can see the various tables with the following."
   ]
  },
  {
   "cell_type": "code",
   "execution_count": 3,
   "id": "threaded-services",
   "metadata": {},
   "outputs": [
    {
     "data": {
      "text/plain": [
       "[('Employee',),\n",
       " ('Category',),\n",
       " ('Customer',),\n",
       " ('Shipper',),\n",
       " ('Supplier',),\n",
       " ('Order',),\n",
       " ('Product',),\n",
       " ('OrderDetail',),\n",
       " ('CustomerCustomerDemo',),\n",
       " ('CustomerDemographic',),\n",
       " ('Region',),\n",
       " ('Territory',),\n",
       " ('EmployeeTerritory',)]"
      ]
     },
     "execution_count": 3,
     "metadata": {},
     "output_type": "execute_result"
    }
   ],
   "source": [
    "cursor.execute(\"SELECT name FROM sqlite_master WHERE type='table';\")\n",
    "cursor.fetchall()"
   ]
  },
  {
   "cell_type": "markdown",
   "id": "alone-enforcement",
   "metadata": {},
   "source": [
    "Now we we'll only use a subset of the above tables -- focusing on the `Product`, `Supplier` and `Category` table.  Ok, let's take a look at those tables."
   ]
  },
  {
   "cell_type": "code",
   "execution_count": 7,
   "id": "massive-pride",
   "metadata": {},
   "outputs": [
    {
     "data": {
      "text/html": [
       "<div>\n",
       "<style scoped>\n",
       "    .dataframe tbody tr th:only-of-type {\n",
       "        vertical-align: middle;\n",
       "    }\n",
       "\n",
       "    .dataframe tbody tr th {\n",
       "        vertical-align: top;\n",
       "    }\n",
       "\n",
       "    .dataframe thead th {\n",
       "        text-align: right;\n",
       "    }\n",
       "</style>\n",
       "<table border=\"1\" class=\"dataframe\">\n",
       "  <thead>\n",
       "    <tr style=\"text-align: right;\">\n",
       "      <th></th>\n",
       "      <th>Id</th>\n",
       "      <th>ProductName</th>\n",
       "      <th>SupplierId</th>\n",
       "      <th>CategoryId</th>\n",
       "      <th>QuantityPerUnit</th>\n",
       "      <th>UnitPrice</th>\n",
       "      <th>UnitsInStock</th>\n",
       "      <th>UnitsOnOrder</th>\n",
       "      <th>ReorderLevel</th>\n",
       "      <th>Discontinued</th>\n",
       "    </tr>\n",
       "  </thead>\n",
       "  <tbody>\n",
       "    <tr>\n",
       "      <th>0</th>\n",
       "      <td>1</td>\n",
       "      <td>Chai</td>\n",
       "      <td>1</td>\n",
       "      <td>1</td>\n",
       "      <td>10 boxes x 20 bags</td>\n",
       "      <td>18</td>\n",
       "      <td>39</td>\n",
       "      <td>0</td>\n",
       "      <td>10</td>\n",
       "      <td>0</td>\n",
       "    </tr>\n",
       "    <tr>\n",
       "      <th>1</th>\n",
       "      <td>2</td>\n",
       "      <td>Chang</td>\n",
       "      <td>1</td>\n",
       "      <td>1</td>\n",
       "      <td>24 - 12 oz bottles</td>\n",
       "      <td>19</td>\n",
       "      <td>17</td>\n",
       "      <td>40</td>\n",
       "      <td>25</td>\n",
       "      <td>0</td>\n",
       "    </tr>\n",
       "  </tbody>\n",
       "</table>\n",
       "</div>"
      ],
      "text/plain": [
       "   Id ProductName  SupplierId  CategoryId     QuantityPerUnit  UnitPrice  \\\n",
       "0   1        Chai           1           1  10 boxes x 20 bags         18   \n",
       "1   2       Chang           1           1  24 - 12 oz bottles         19   \n",
       "\n",
       "   UnitsInStock  UnitsOnOrder  ReorderLevel  Discontinued  \n",
       "0            39             0            10             0  \n",
       "1            17            40            25             0  "
      ]
     },
     "execution_count": 7,
     "metadata": {},
     "output_type": "execute_result"
    }
   ],
   "source": [
    "import pandas as pd\n",
    "pd.read_sql('SELECT * FROM Product LIMIT 2;', conn)"
   ]
  },
  {
   "cell_type": "code",
   "execution_count": 25,
   "id": "consolidated-sperm",
   "metadata": {},
   "outputs": [
    {
     "data": {
      "text/html": [
       "<div>\n",
       "<style scoped>\n",
       "    .dataframe tbody tr th:only-of-type {\n",
       "        vertical-align: middle;\n",
       "    }\n",
       "\n",
       "    .dataframe tbody tr th {\n",
       "        vertical-align: top;\n",
       "    }\n",
       "\n",
       "    .dataframe thead th {\n",
       "        text-align: right;\n",
       "    }\n",
       "</style>\n",
       "<table border=\"1\" class=\"dataframe\">\n",
       "  <thead>\n",
       "    <tr style=\"text-align: right;\">\n",
       "      <th></th>\n",
       "      <th>Id</th>\n",
       "      <th>CompanyName</th>\n",
       "      <th>ContactName</th>\n",
       "      <th>ContactTitle</th>\n",
       "      <th>Address</th>\n",
       "      <th>City</th>\n",
       "      <th>Region</th>\n",
       "      <th>PostalCode</th>\n",
       "      <th>Country</th>\n",
       "      <th>Phone</th>\n",
       "      <th>Fax</th>\n",
       "      <th>HomePage</th>\n",
       "    </tr>\n",
       "  </thead>\n",
       "  <tbody>\n",
       "    <tr>\n",
       "      <th>0</th>\n",
       "      <td>1</td>\n",
       "      <td>Exotic Liquids</td>\n",
       "      <td>Charlotte Cooper</td>\n",
       "      <td>Purchasing Manager</td>\n",
       "      <td>49 Gilbert St.</td>\n",
       "      <td>London</td>\n",
       "      <td>British Isles</td>\n",
       "      <td>EC1 4SD</td>\n",
       "      <td>UK</td>\n",
       "      <td>(171) 555-2222</td>\n",
       "      <td>None</td>\n",
       "      <td>None</td>\n",
       "    </tr>\n",
       "    <tr>\n",
       "      <th>1</th>\n",
       "      <td>2</td>\n",
       "      <td>New Orleans Cajun Delights</td>\n",
       "      <td>Shelley Burke</td>\n",
       "      <td>Order Administrator</td>\n",
       "      <td>P.O. Box 78934</td>\n",
       "      <td>New Orleans</td>\n",
       "      <td>North America</td>\n",
       "      <td>70117</td>\n",
       "      <td>USA</td>\n",
       "      <td>(100) 555-4822</td>\n",
       "      <td>None</td>\n",
       "      <td>#CAJUN.HTM#</td>\n",
       "    </tr>\n",
       "  </tbody>\n",
       "</table>\n",
       "</div>"
      ],
      "text/plain": [
       "   Id                 CompanyName       ContactName         ContactTitle  \\\n",
       "0   1              Exotic Liquids  Charlotte Cooper   Purchasing Manager   \n",
       "1   2  New Orleans Cajun Delights     Shelley Burke  Order Administrator   \n",
       "\n",
       "          Address         City         Region PostalCode Country  \\\n",
       "0  49 Gilbert St.       London  British Isles    EC1 4SD      UK   \n",
       "1  P.O. Box 78934  New Orleans  North America      70117     USA   \n",
       "\n",
       "            Phone   Fax     HomePage  \n",
       "0  (171) 555-2222  None         None  \n",
       "1  (100) 555-4822  None  #CAJUN.HTM#  "
      ]
     },
     "execution_count": 25,
     "metadata": {},
     "output_type": "execute_result"
    }
   ],
   "source": [
    "pd.read_sql(\"SELECT * FROM supplier LIMIT 2;\", conn)"
   ]
  },
  {
   "cell_type": "code",
   "execution_count": 26,
   "id": "outside-sleeve",
   "metadata": {},
   "outputs": [
    {
     "data": {
      "text/html": [
       "<div>\n",
       "<style scoped>\n",
       "    .dataframe tbody tr th:only-of-type {\n",
       "        vertical-align: middle;\n",
       "    }\n",
       "\n",
       "    .dataframe tbody tr th {\n",
       "        vertical-align: top;\n",
       "    }\n",
       "\n",
       "    .dataframe thead th {\n",
       "        text-align: right;\n",
       "    }\n",
       "</style>\n",
       "<table border=\"1\" class=\"dataframe\">\n",
       "  <thead>\n",
       "    <tr style=\"text-align: right;\">\n",
       "      <th></th>\n",
       "      <th>Id</th>\n",
       "      <th>CategoryName</th>\n",
       "      <th>Description</th>\n",
       "    </tr>\n",
       "  </thead>\n",
       "  <tbody>\n",
       "    <tr>\n",
       "      <th>0</th>\n",
       "      <td>1</td>\n",
       "      <td>Beverages</td>\n",
       "      <td>Soft drinks, coffees, teas, beers, and ales</td>\n",
       "    </tr>\n",
       "    <tr>\n",
       "      <th>1</th>\n",
       "      <td>2</td>\n",
       "      <td>Condiments</td>\n",
       "      <td>Sweet and savory sauces, relishes, spreads, an...</td>\n",
       "    </tr>\n",
       "  </tbody>\n",
       "</table>\n",
       "</div>"
      ],
      "text/plain": [
       "   Id CategoryName                                        Description\n",
       "0   1    Beverages        Soft drinks, coffees, teas, beers, and ales\n",
       "1   2   Condiments  Sweet and savory sauces, relishes, spreads, an..."
      ]
     },
     "execution_count": 26,
     "metadata": {},
     "output_type": "execute_result"
    }
   ],
   "source": [
    "pd.read_sql(\"SELECT * FROM category LIMIT 2;\", conn)"
   ]
  },
  {
   "cell_type": "markdown",
   "id": "behind-highway",
   "metadata": {},
   "source": [
    "### Our First CTEs"
   ]
  },
  {
   "cell_type": "markdown",
   "id": "intermediate-starter",
   "metadata": {},
   "source": [
    "Ok, now it's time to write our first CTE.  Let's use a CTE to find the highest average unit price by category and supplier.\n",
    "\n",
    "In doing so first create a temporary table called `avg_category_supplier` that computes the average unit prices, and then find the category and supplier combination with the highest average price."
   ]
  },
  {
   "cell_type": "code",
   "execution_count": 23,
   "id": "veterinary-photograph",
   "metadata": {},
   "outputs": [],
   "source": [
    "sql = \"\"\"\n",
    "\n",
    "\"\"\""
   ]
  },
  {
   "cell_type": "code",
   "execution_count": 24,
   "id": "blocked-complaint",
   "metadata": {},
   "outputs": [
    {
     "data": {
      "text/html": [
       "<div>\n",
       "<style scoped>\n",
       "    .dataframe tbody tr th:only-of-type {\n",
       "        vertical-align: middle;\n",
       "    }\n",
       "\n",
       "    .dataframe tbody tr th {\n",
       "        vertical-align: top;\n",
       "    }\n",
       "\n",
       "    .dataframe thead th {\n",
       "        text-align: right;\n",
       "    }\n",
       "</style>\n",
       "<table border=\"1\" class=\"dataframe\">\n",
       "  <thead>\n",
       "    <tr style=\"text-align: right;\">\n",
       "      <th></th>\n",
       "      <th>CategoryId</th>\n",
       "      <th>SupplierId</th>\n",
       "      <th>highest_avg_price</th>\n",
       "    </tr>\n",
       "  </thead>\n",
       "  <tbody>\n",
       "    <tr>\n",
       "      <th>0</th>\n",
       "      <td>1</td>\n",
       "      <td>18</td>\n",
       "      <td>140.75</td>\n",
       "    </tr>\n",
       "  </tbody>\n",
       "</table>\n",
       "</div>"
      ],
      "text/plain": [
       "   CategoryId  SupplierId  highest_avg_price\n",
       "0           1          18             140.75"
      ]
     },
     "execution_count": 24,
     "metadata": {},
     "output_type": "execute_result"
    }
   ],
   "source": [
    "pd.read_sql(sql, conn)\n",
    "\n",
    "# CategoryId\tSupplierId\thighest_avg_price\n",
    "# 0\t1\t18\t140.75"
   ]
  },
  {
   "cell_type": "markdown",
   "id": "piano-still",
   "metadata": {},
   "source": [
    "Now let's use a CTE to find just the category with the lowest average price."
   ]
  },
  {
   "cell_type": "code",
   "execution_count": 92,
   "id": "rental-grocery",
   "metadata": {},
   "outputs": [],
   "source": [
    "sql = \"\"\"\n",
    "\n",
    "\"\"\""
   ]
  },
  {
   "cell_type": "code",
   "execution_count": 93,
   "id": "collectible-glass",
   "metadata": {},
   "outputs": [
    {
     "data": {
      "text/html": [
       "<div>\n",
       "<style scoped>\n",
       "    .dataframe tbody tr th:only-of-type {\n",
       "        vertical-align: middle;\n",
       "    }\n",
       "\n",
       "    .dataframe tbody tr th {\n",
       "        vertical-align: top;\n",
       "    }\n",
       "\n",
       "    .dataframe thead th {\n",
       "        text-align: right;\n",
       "    }\n",
       "</style>\n",
       "<table border=\"1\" class=\"dataframe\">\n",
       "  <thead>\n",
       "    <tr style=\"text-align: right;\">\n",
       "      <th></th>\n",
       "      <th>CategoryId</th>\n",
       "      <th>lowest_avg_price</th>\n",
       "    </tr>\n",
       "  </thead>\n",
       "  <tbody>\n",
       "    <tr>\n",
       "      <th>0</th>\n",
       "      <td>5</td>\n",
       "      <td>20.25</td>\n",
       "    </tr>\n",
       "  </tbody>\n",
       "</table>\n",
       "</div>"
      ],
      "text/plain": [
       "   CategoryId  lowest_avg_price\n",
       "0           5             20.25"
      ]
     },
     "execution_count": 93,
     "metadata": {},
     "output_type": "execute_result"
    }
   ],
   "source": [
    "pd.read_sql(sql, conn)\n",
    "\n",
    "# \tCategoryId\tlowest_avg_price\n",
    "# 0\t5\t20.25"
   ]
  },
  {
   "cell_type": "markdown",
   "id": "emotional-remains",
   "metadata": {},
   "source": [
    "Ok, so in this section, we used CTEs to perform multiple aggregations.  We did so by using CTEs to perform an initial aggregation in a temporary table, and then queried from that temporary table.  "
   ]
  },
  {
   "cell_type": "markdown",
   "id": "sharp-narrative",
   "metadata": {},
   "source": [
    "### CTEs for Preprocessing"
   ]
  },
  {
   "cell_type": "markdown",
   "id": "swedish-armor",
   "metadata": {},
   "source": [
    "Another use case for CTEs in queries is when joining together multiple tables.  Remember that in general, when coding, we often perform some initial pre-processing, and then act on that preprocessed data.  With CTEs, this may mean using temporary tables to first selecting just the columns that we need from a couple individual tables, and then performing the query from there."
   ]
  },
  {
   "cell_type": "markdown",
   "id": "sitting-password",
   "metadata": {},
   "source": [
    "For example, if we want to find the different categories of products made in the `British Isles` we only need a few columns from each table.  So we'll use CTEs to first select columns from each of those individual tables, and then from there combine these temporary tables together. "
   ]
  },
  {
   "cell_type": "code",
   "execution_count": 94,
   "id": "prostate-assault",
   "metadata": {},
   "outputs": [
    {
     "data": {
      "text/html": [
       "<div>\n",
       "<style scoped>\n",
       "    .dataframe tbody tr th:only-of-type {\n",
       "        vertical-align: middle;\n",
       "    }\n",
       "\n",
       "    .dataframe tbody tr th {\n",
       "        vertical-align: top;\n",
       "    }\n",
       "\n",
       "    .dataframe thead th {\n",
       "        text-align: right;\n",
       "    }\n",
       "</style>\n",
       "<table border=\"1\" class=\"dataframe\">\n",
       "  <thead>\n",
       "    <tr style=\"text-align: right;\">\n",
       "      <th></th>\n",
       "      <th>Id</th>\n",
       "      <th>CompanyName</th>\n",
       "      <th>ContactName</th>\n",
       "      <th>ContactTitle</th>\n",
       "      <th>Address</th>\n",
       "      <th>City</th>\n",
       "      <th>Region</th>\n",
       "      <th>PostalCode</th>\n",
       "      <th>Country</th>\n",
       "      <th>Phone</th>\n",
       "      <th>Fax</th>\n",
       "      <th>HomePage</th>\n",
       "    </tr>\n",
       "  </thead>\n",
       "  <tbody>\n",
       "    <tr>\n",
       "      <th>0</th>\n",
       "      <td>1</td>\n",
       "      <td>Exotic Liquids</td>\n",
       "      <td>Charlotte Cooper</td>\n",
       "      <td>Purchasing Manager</td>\n",
       "      <td>49 Gilbert St.</td>\n",
       "      <td>London</td>\n",
       "      <td>British Isles</td>\n",
       "      <td>EC1 4SD</td>\n",
       "      <td>UK</td>\n",
       "      <td>(171) 555-2222</td>\n",
       "      <td>None</td>\n",
       "      <td>None</td>\n",
       "    </tr>\n",
       "    <tr>\n",
       "      <th>1</th>\n",
       "      <td>2</td>\n",
       "      <td>New Orleans Cajun Delights</td>\n",
       "      <td>Shelley Burke</td>\n",
       "      <td>Order Administrator</td>\n",
       "      <td>P.O. Box 78934</td>\n",
       "      <td>New Orleans</td>\n",
       "      <td>North America</td>\n",
       "      <td>70117</td>\n",
       "      <td>USA</td>\n",
       "      <td>(100) 555-4822</td>\n",
       "      <td>None</td>\n",
       "      <td>#CAJUN.HTM#</td>\n",
       "    </tr>\n",
       "  </tbody>\n",
       "</table>\n",
       "</div>"
      ],
      "text/plain": [
       "   Id                 CompanyName       ContactName         ContactTitle  \\\n",
       "0   1              Exotic Liquids  Charlotte Cooper   Purchasing Manager   \n",
       "1   2  New Orleans Cajun Delights     Shelley Burke  Order Administrator   \n",
       "\n",
       "          Address         City         Region PostalCode Country  \\\n",
       "0  49 Gilbert St.       London  British Isles    EC1 4SD      UK   \n",
       "1  P.O. Box 78934  New Orleans  North America      70117     USA   \n",
       "\n",
       "            Phone   Fax     HomePage  \n",
       "0  (171) 555-2222  None         None  \n",
       "1  (100) 555-4822  None  #CAJUN.HTM#  "
      ]
     },
     "execution_count": 94,
     "metadata": {},
     "output_type": "execute_result"
    }
   ],
   "source": [
    "pd.read_sql(\"SELECT * FROM supplier LIMIT 2;\", conn)"
   ]
  },
  {
   "cell_type": "code",
   "execution_count": 74,
   "id": "apart-forum",
   "metadata": {},
   "outputs": [],
   "source": [
    "sql = \"\"\"\n",
    "WITH select_supplier as (\n",
    "    SELECT Id, CompanyName, Region FROM supplier\n",
    "), \n",
    "\n",
    "select_category as (\n",
    "    SELECT Id, CategoryName as name FROM Category\n",
    "),\n",
    "\n",
    "select_product as (\n",
    "        SELECT SupplierId, CategoryId, UnitPrice FROM Product\n",
    ")\n",
    "\n",
    "SELECT * FROM select_product \n",
    "JOIN select_supplier ON select_product.SupplierId = select_supplier.Id\n",
    "JOIN select_category ON select_product.CategoryId = select_category.Id\n",
    "WHERE Region = 'British Isles';\"\"\""
   ]
  },
  {
   "cell_type": "code",
   "execution_count": 75,
   "id": "metallic-nylon",
   "metadata": {},
   "outputs": [
    {
     "data": {
      "text/html": [
       "<div>\n",
       "<style scoped>\n",
       "    .dataframe tbody tr th:only-of-type {\n",
       "        vertical-align: middle;\n",
       "    }\n",
       "\n",
       "    .dataframe tbody tr th {\n",
       "        vertical-align: top;\n",
       "    }\n",
       "\n",
       "    .dataframe thead th {\n",
       "        text-align: right;\n",
       "    }\n",
       "</style>\n",
       "<table border=\"1\" class=\"dataframe\">\n",
       "  <thead>\n",
       "    <tr style=\"text-align: right;\">\n",
       "      <th></th>\n",
       "      <th>SupplierId</th>\n",
       "      <th>CategoryId</th>\n",
       "      <th>UnitPrice</th>\n",
       "      <th>Id</th>\n",
       "      <th>CompanyName</th>\n",
       "      <th>Region</th>\n",
       "      <th>Id</th>\n",
       "      <th>name</th>\n",
       "    </tr>\n",
       "  </thead>\n",
       "  <tbody>\n",
       "    <tr>\n",
       "      <th>0</th>\n",
       "      <td>1</td>\n",
       "      <td>1</td>\n",
       "      <td>18.0</td>\n",
       "      <td>1</td>\n",
       "      <td>Exotic Liquids</td>\n",
       "      <td>British Isles</td>\n",
       "      <td>1</td>\n",
       "      <td>Beverages</td>\n",
       "    </tr>\n",
       "    <tr>\n",
       "      <th>1</th>\n",
       "      <td>1</td>\n",
       "      <td>1</td>\n",
       "      <td>19.0</td>\n",
       "      <td>1</td>\n",
       "      <td>Exotic Liquids</td>\n",
       "      <td>British Isles</td>\n",
       "      <td>1</td>\n",
       "      <td>Beverages</td>\n",
       "    </tr>\n",
       "    <tr>\n",
       "      <th>2</th>\n",
       "      <td>1</td>\n",
       "      <td>2</td>\n",
       "      <td>10.0</td>\n",
       "      <td>1</td>\n",
       "      <td>Exotic Liquids</td>\n",
       "      <td>British Isles</td>\n",
       "      <td>2</td>\n",
       "      <td>Condiments</td>\n",
       "    </tr>\n",
       "    <tr>\n",
       "      <th>3</th>\n",
       "      <td>8</td>\n",
       "      <td>3</td>\n",
       "      <td>9.2</td>\n",
       "      <td>8</td>\n",
       "      <td>Specialty Biscuits, Ltd.</td>\n",
       "      <td>British Isles</td>\n",
       "      <td>3</td>\n",
       "      <td>Confections</td>\n",
       "    </tr>\n",
       "    <tr>\n",
       "      <th>4</th>\n",
       "      <td>8</td>\n",
       "      <td>3</td>\n",
       "      <td>81.0</td>\n",
       "      <td>8</td>\n",
       "      <td>Specialty Biscuits, Ltd.</td>\n",
       "      <td>British Isles</td>\n",
       "      <td>3</td>\n",
       "      <td>Confections</td>\n",
       "    </tr>\n",
       "    <tr>\n",
       "      <th>5</th>\n",
       "      <td>8</td>\n",
       "      <td>3</td>\n",
       "      <td>10.0</td>\n",
       "      <td>8</td>\n",
       "      <td>Specialty Biscuits, Ltd.</td>\n",
       "      <td>British Isles</td>\n",
       "      <td>3</td>\n",
       "      <td>Confections</td>\n",
       "    </tr>\n",
       "    <tr>\n",
       "      <th>6</th>\n",
       "      <td>8</td>\n",
       "      <td>3</td>\n",
       "      <td>12.5</td>\n",
       "      <td>8</td>\n",
       "      <td>Specialty Biscuits, Ltd.</td>\n",
       "      <td>British Isles</td>\n",
       "      <td>3</td>\n",
       "      <td>Confections</td>\n",
       "    </tr>\n",
       "  </tbody>\n",
       "</table>\n",
       "</div>"
      ],
      "text/plain": [
       "   SupplierId  CategoryId  UnitPrice  Id               CompanyName  \\\n",
       "0           1           1       18.0   1            Exotic Liquids   \n",
       "1           1           1       19.0   1            Exotic Liquids   \n",
       "2           1           2       10.0   1            Exotic Liquids   \n",
       "3           8           3        9.2   8  Specialty Biscuits, Ltd.   \n",
       "4           8           3       81.0   8  Specialty Biscuits, Ltd.   \n",
       "5           8           3       10.0   8  Specialty Biscuits, Ltd.   \n",
       "6           8           3       12.5   8  Specialty Biscuits, Ltd.   \n",
       "\n",
       "          Region  Id         name  \n",
       "0  British Isles   1    Beverages  \n",
       "1  British Isles   1    Beverages  \n",
       "2  British Isles   2   Condiments  \n",
       "3  British Isles   3  Confections  \n",
       "4  British Isles   3  Confections  \n",
       "5  British Isles   3  Confections  \n",
       "6  British Isles   3  Confections  "
      ]
     },
     "execution_count": 75,
     "metadata": {},
     "output_type": "execute_result"
    }
   ],
   "source": [
    "pd.read_sql(sql, conn)"
   ]
  },
  {
   "cell_type": "markdown",
   "id": "southern-brush",
   "metadata": {},
   "source": [
    "So we can see that we the products made in the British Isles are Beverages, Condiments and Confections."
   ]
  },
  {
   "cell_type": "markdown",
   "id": "rapid-marking",
   "metadata": {},
   "source": [
    "Now, take another look at the CTE above.  Notice that there is only a single `WITH` statement, and we separate each temporary table by a comma."
   ]
  },
  {
   "cell_type": "markdown",
   "id": "clinical-baker",
   "metadata": {},
   "source": [
    "```SQL\n",
    "WITH select_supplier as (\n",
    "    SELECT Id, CompanyName, Region FROM supplier\n",
    "), \n",
    "\n",
    "select_category as ( ...\n",
    "```"
   ]
  },
  {
   "cell_type": "markdown",
   "id": "meaning-chambers",
   "metadata": {},
   "source": [
    "Ok, so now it's your turn to practice with using CTEs in this pattern.  Use CTEs to find the the average product price per city, and order from most highest product price to lowest.\n",
    "\n",
    "So the first step is to use CTEs to select just the necessary columns from each of the needed tables.  And then from there we can join the tables together and perform the aggregation."
   ]
  },
  {
   "cell_type": "code",
   "execution_count": 84,
   "id": "manufactured-survival",
   "metadata": {},
   "outputs": [],
   "source": [
    "sql = \"\"\"\n",
    "\n",
    "\"\"\""
   ]
  },
  {
   "cell_type": "code",
   "execution_count": 85,
   "id": "decent-violence",
   "metadata": {},
   "outputs": [
    {
     "data": {
      "text/html": [
       "<div>\n",
       "<style scoped>\n",
       "    .dataframe tbody tr th:only-of-type {\n",
       "        vertical-align: middle;\n",
       "    }\n",
       "\n",
       "    .dataframe tbody tr th {\n",
       "        vertical-align: top;\n",
       "    }\n",
       "\n",
       "    .dataframe thead th {\n",
       "        text-align: right;\n",
       "    }\n",
       "</style>\n",
       "<table border=\"1\" class=\"dataframe\">\n",
       "  <thead>\n",
       "    <tr style=\"text-align: right;\">\n",
       "      <th></th>\n",
       "      <th>City</th>\n",
       "      <th>avg_price</th>\n",
       "    </tr>\n",
       "  </thead>\n",
       "  <tbody>\n",
       "    <tr>\n",
       "      <th>0</th>\n",
       "      <td>Paris</td>\n",
       "      <td>140.750</td>\n",
       "    </tr>\n",
       "    <tr>\n",
       "      <th>1</th>\n",
       "      <td>Tokyo</td>\n",
       "      <td>46.000</td>\n",
       "    </tr>\n",
       "    <tr>\n",
       "      <th>2</th>\n",
       "      <td>Frankfurt</td>\n",
       "      <td>44.678</td>\n",
       "    </tr>\n",
       "    <tr>\n",
       "      <th>3</th>\n",
       "      <td>Annecy</td>\n",
       "      <td>44.500</td>\n",
       "    </tr>\n",
       "    <tr>\n",
       "      <th>4</th>\n",
       "      <td>Ste-Hyacinthe</td>\n",
       "      <td>38.900</td>\n",
       "    </tr>\n",
       "  </tbody>\n",
       "</table>\n",
       "</div>"
      ],
      "text/plain": [
       "            City  avg_price\n",
       "0          Paris    140.750\n",
       "1          Tokyo     46.000\n",
       "2      Frankfurt     44.678\n",
       "3         Annecy     44.500\n",
       "4  Ste-Hyacinthe     38.900"
      ]
     },
     "execution_count": 85,
     "metadata": {},
     "output_type": "execute_result"
    }
   ],
   "source": [
    "pd.read_sql(sql, conn)\n",
    "\n",
    "# \tCity\tavg_price\n",
    "# 0\tParis\t140.750\n",
    "# 1\tTokyo\t46.000\n",
    "# 2\tFrankfurt\t44.678\n",
    "# 3\tAnnecy\t44.500\n",
    "# 4\tSte-Hyacinthe\t38.900"
   ]
  },
  {
   "cell_type": "markdown",
   "id": "jewish-maldives",
   "metadata": {},
   "source": [
    "### Summary"
   ]
  },
  {
   "cell_type": "markdown",
   "id": "cleared-wilson",
   "metadata": {},
   "source": [
    "In this lesson we practiced using CTEs.  We use CTEs to create one or more temporary tables, and we then query from those tables.  We saw two use cases for CTEs.  With the first one, we use CTEs when chaining aggregate queries.\n",
    "\n",
    "And with the second one, we used the temporary tables for a sort of pre-processing on each table, before then joining these tables together.  We separated each of the temporary tables with a comma."
   ]
  },
  {
   "cell_type": "markdown",
   "id": "restricted-classic",
   "metadata": {},
   "source": [
    "```sql\n",
    "WITH select_supplier as (\n",
    "    SELECT Id, CompanyName, Region FROM supplier\n",
    "), \n",
    "\n",
    "select_category as ( ...\n",
    "```"
   ]
  }
 ],
 "metadata": {
  "kernelspec": {
   "display_name": "Python 3",
   "language": "python",
   "name": "python3"
  },
  "language_info": {
   "codemirror_mode": {
    "name": "ipython",
    "version": 3
   },
   "file_extension": ".py",
   "mimetype": "text/x-python",
   "name": "python",
   "nbconvert_exporter": "python",
   "pygments_lexer": "ipython3",
   "version": "3.8.6"
  }
 },
 "nbformat": 4,
 "nbformat_minor": 5
}
